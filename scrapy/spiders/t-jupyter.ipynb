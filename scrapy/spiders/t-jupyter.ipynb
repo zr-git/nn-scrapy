{
 "cells": [
  {
   "cell_type": "code",
   "execution_count": null,
   "metadata": {
    "collapsed": true
   },
   "outputs": [],
   "source": [
    "############### import packages\n",
    "import os, nltk, numpy as np, pandas as pd, time, textstat, re, csv, gc, random, requests\n",
    "from bs4 import BeautifulSoup\n",
    "from nltk import word_tokenize\n",
    "from tqdm import tqdm\n",
    "\n",
    "##########################################################\n",
    "##################### parameter ##########################\n",
    "##########################################################\n",
    "obj_type = '8-K'\n",
    "ooo=1\n",
    "sdfsadf=12343\n",
    "erer=1\n",
    "item_type = '' # to analyze who document, set item_type to 'full'\n",
    "period_start = 2014 # included\n",
    "period_end = 2020 # included\n",
    "# raw_filing_dir = 'H:\\\\data\\\\edgar\\\\processed\\\\' + obj_type + '\\\\' + item_type\n",
    "if (obj_type == '10-K') | (obj_type == '10-Q'):\n",
    "    output_csv_dir = '..\\\\filings\\\\text_data_' + obj_type + '_' + item_type + '_' + str(period_start) + '-' + str(period_end) + '.csv'\n",
    "else:\n",
    "    output_csv_dir = '..\\\\filings\\\\text_data_' + obj_type  + '_' + str(period_start) + '-' + str(period_end) + '.csv'\n",
    "\n",
    "input_csv_dir = '..\\\\filings\\\\id_data_' + obj_type + '_' + str(period_start) + '-' + str(period_end) + '.csv'\n",
    "dictionary_dir = '..\\\\..\\\\dictionary\\\\'\n",
    "time_waiting = 0\n",
    "\n",
    "# ############### Set working directory to parent directory\n",
    "# if os.getcwd() != r'F:\\github\\narrative_conservatism\\code':\n",
    "#     os.chdir(r'F:\\github\\narrative_conservatism\\code')\n",
    "\n"
   ]
  }
 ],
 "metadata": {
  "kernelspec": {
   "display_name": "Python 3",
   "language": "python",
   "name": "python3"
  },
  "language_info": {
   "codemirror_mode": {
    "name": "ipython",
    "version": 3
   },
   "file_extension": ".py",
   "mimetype": "text/x-python",
   "name": "python",
   "nbconvert_exporter": "python",
   "pygments_lexer": "ipython3",
   "version": "3.8.5"
  },
  "toc": {
   "base_numbering": 1,
   "nav_menu": {},
   "number_sections": true,
   "sideBar": true,
   "skip_h1_title": false,
   "title_cell": "Table of Contents",
   "title_sidebar": "Contents",
   "toc_cell": false,
   "toc_position": {},
   "toc_section_display": true,
   "toc_window_display": false
  },
  "varInspector": {
   "cols": {
    "lenName": 16,
    "lenType": 16,
    "lenVar": 40
   },
   "kernels_config": {
    "python": {
     "delete_cmd_postfix": "",
     "delete_cmd_prefix": "del ",
     "library": "var_list.py",
     "varRefreshCmd": "print(var_dic_list())"
    },
    "r": {
     "delete_cmd_postfix": ") ",
     "delete_cmd_prefix": "rm(",
     "library": "var_list.r",
     "varRefreshCmd": "cat(var_dic_list()) "
    }
   },
   "types_to_exclude": [
    "module",
    "function",
    "builtin_function_or_method",
    "instance",
    "_Feature"
   ],
   "window_display": false
  }
 },
 "nbformat": 4,
 "nbformat_minor": 1
}